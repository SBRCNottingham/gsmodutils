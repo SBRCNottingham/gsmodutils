{
 "cells": [
  {
   "cell_type": "markdown",
   "metadata": {},
   "source": [
    "# Creating projects and running tests\n",
    "\n",
    "\n",
    "## Project creation\n",
    "\n",
    "The first step for the use of gsmodutils for assitance with managing curated genome scale models is the creation of the necissary project files. This is a configuration that only needs to be done once before models and designs can be added.\n",
    "\n",
    "In python this can be achived as follows"
   ]
  },
  {
   "cell_type": "code",
   "execution_count": 1,
   "metadata": {
    "collapsed": true
   },
   "outputs": [],
   "source": [
    "from gsmodutils import GSMProject\n",
    "from cameo import models\n",
    "import cobra\n",
    "\n",
    "model = models.bigg.e_coli_core"
   ]
  },
  {
   "cell_type": "code",
   "execution_count": 2,
   "metadata": {
    "collapsed": true
   },
   "outputs": [],
   "source": [
    "# Note, running more than once will throw an error. Projects can't be created in the folder more than once.\n",
    "project = GSMProject.create_project(\n",
    "    models=[models.bigg.iJO1366],\n",
    "    description='Example ecoli core model',\n",
    "    author='A user',\n",
    "    author_email='A.user@example.com',\n",
    "    project_path='example_project'\n",
    ")"
   ]
  },
  {
   "cell_type": "markdown",
   "metadata": {},
   "source": [
    "Alternatively, we reccomend the usage of the cli interface with the following command. This will prompt you for the necissary descriptions."
   ]
  },
  {
   "cell_type": "raw",
   "metadata": {},
   "source": [
    "gsmodutils create_project ./example_project <path to ecoli_model.json/sbml/mat>"
   ]
  },
  {
   "cell_type": "markdown",
   "metadata": {},
   "source": [
    "The project folder \"ecoli_core_model\" should now be created containing the barebones of a new project directory. The model file will be copied. Alternatively a project file can be created in a directory with an already existing model and other files. In th"
   ]
  },
  {
   "cell_type": "markdown",
   "metadata": {},
   "source": [
    "## Adding some growth conditions\n",
    "\n",
    "In many cases it is desirable to compare models configured with different growth conditions. In this simplistic example we show how conditions can be adjusted by switching the growth media from glucose to fructose. This setting can then be saved and reloaded at a later time."
   ]
  },
  {
   "cell_type": "code",
   "execution_count": 3,
   "metadata": {
    "collapsed": true
   },
   "outputs": [],
   "source": [
    "from gsmodutils import GSMProject\n",
    "# Load existing project\n",
    "project = GSMProject('example_project')\n",
    "model = project.model\n",
    "\n",
    "# Switching off glucose uptake\n",
    "model.reactions.EX_glc__D_e.lower_bound = 0\n",
    "# switching on Xylose uptake\n",
    "model.reactions.EX_fru_e.lower_bound = -10\n",
    "# Check it works\n",
    "s = model.optimize()\n",
    "project.save_conditions(model, 'fructose_growth')\n"
   ]
  },
  {
   "cell_type": "code",
   "execution_count": 4,
   "metadata": {
    "collapsed": true
   },
   "outputs": [],
   "source": [
    "# loading the conditions back into a different model\n",
    "fructose_m = project.load_conditions('fructose_growth')\n",
    "\n",
    "# fructose should be in the medium\n",
    "# Glucose should not be present\n",
    "assert \"EX_fru_e\" in fructose_m.medium\n",
    "assert \"EX_glc__D_e\" not in fructose_m.medium\n",
    "\n",
    "assert fructose_m.medium[\"EX_fru_e\"] == 10\n"
   ]
  },
  {
   "cell_type": "markdown",
   "metadata": {},
   "source": [
    "## Adding designs\n",
    "\n",
    "There are many cases in which an organism maybe modified in complex ways. In this example we apply some of the work from  [1] and add the reactions for the Calvin-Benson (CBB) cycle to the ecoli model. This allows the fixation of CO2 as an inorganic carbon source.\n",
    "\n",
    "To do this, we need to add two enzymatic reactions to the model Phosphoribulokinase and Rubisco.\n"
   ]
  },
  {
   "cell_type": "code",
   "execution_count": 1,
   "metadata": {},
   "outputs": [
    {
     "data": {
      "text/html": [
       "\n",
       "        <table>\n",
       "            <tr>\n",
       "                <td><strong>Reaction identifier</strong></td><td>PRUK</td>\n",
       "            </tr><tr>\n",
       "                <td><strong>Name</strong></td><td>Phosphoribulokinase reaction</td>\n",
       "            </tr><tr>\n",
       "                <td><strong>Memory address</strong></td>\n",
       "                <td>0x07f2b1b81cad0</td>\n",
       "            </tr><tr>\n",
       "                <td><strong>Stoichiometry</strong></td>\n",
       "                <td>\n",
       "                    <p style='text-align:right'>atp_c + ru5p__D_c <=> adp_c + h_c + rb15bp_c</p>\n",
       "                    <p style='text-align:right'>ATP + D-Ribulose 5-phosphate <=> ADP + H+ + D-Ribulose 1,5-bisphosphate</p>\n",
       "                </td>\n",
       "            </tr><tr>\n",
       "                <td><strong>GPR</strong></td><td></td>\n",
       "            </tr><tr>\n",
       "                <td><strong>Lower bound</strong></td><td>-1000</td>\n",
       "            </tr><tr>\n",
       "                <td><strong>Upper bound</strong></td><td>1000</td>\n",
       "            </tr>\n",
       "        </table>\n",
       "        "
      ],
      "text/plain": [
       "<Reaction PRUK at 0x7f2b1b81cad0>"
      ]
     },
     "execution_count": 1,
     "metadata": {},
     "output_type": "execute_result"
    }
   ],
   "source": [
    "from gsmodutils import GSMProject\n",
    "import cobra\n",
    "\n",
    "# Load existing project\n",
    "project = GSMProject('example_project')\n",
    "# Load the default model we want to add\n",
    "model = project.load_model()\n",
    "\n",
    "# Phosphoribulokinase reaction\n",
    "stoich = dict(\n",
    "    atp_c=-1.0,\n",
    "    ru5p__D_c=-1.0,\n",
    "    adp_c=1.0,\n",
    "    h_c=1.0,\n",
    "    rb15bp_c=1.0,\n",
    ")\n",
    "\n",
    "\n",
    "rb15bp = cobra.Metabolite(id='rb15bp_c', name='D-Ribulose 1,5-bisphosphate', formula='C5H8O11P2')\n",
    "model.add_metabolites(rb15bp)\n",
    "\n",
    "pruk = cobra.Reaction(id=\"PRUK\", name=\"Phosphoribulokinase reaction\", lower_bound=-1000, upper_bound=1000)\n",
    "model.add_reaction(pruk)\n",
    "pruk.add_metabolites(stoich)\n",
    "\n",
    "\n",
    "# Rubisco reaction (Ribulose-bisphosphate carboxylase)\n",
    "stoich = {\n",
    "    \"3pg_c\":2.0,\n",
    "    \"rb15bp_c\":-1.0,\n",
    "    \"co2_c\":-1.0,\n",
    "    \"h2o_c\":-1.0,\n",
    "    \"h_c\":2.0\n",
    "}\n",
    "\n",
    "\n",
    "rubisco = cobra.Reaction(id=\"RBPC\", lower_bound=0, upper_bound=1000.0, name=\"Ribulose-bisphosphate carboxylase\")\n",
    "\n",
    "model.add_reaction(rubisco)\n",
    "rubisco.add_metabolites(stoich)\n",
    "\n",
    "#show the reactions\n",
    "pruk\n"
   ]
  },
  {
   "cell_type": "code",
   "execution_count": 2,
   "metadata": {},
   "outputs": [
    {
     "data": {
      "text/html": [
       "\n",
       "        <table>\n",
       "            <tr>\n",
       "                <td><strong>Reaction identifier</strong></td><td>RBPC</td>\n",
       "            </tr><tr>\n",
       "                <td><strong>Name</strong></td><td>Ribulose-bisphosphate carboxylase</td>\n",
       "            </tr><tr>\n",
       "                <td><strong>Memory address</strong></td>\n",
       "                <td>0x07f2b1b49fa50</td>\n",
       "            </tr><tr>\n",
       "                <td><strong>Stoichiometry</strong></td>\n",
       "                <td>\n",
       "                    <p style='text-align:right'>co2_c + h2o_c + rb15bp_c --> 2.0 3pg_c + 2.0 h_c</p>\n",
       "                    <p style='text-align:right'>CO2 + H2O + D-Ribulose 1,5-bisphosphate --> 2.0 3-Phospho-D-glycerate + 2.0 H+</p>\n",
       "                </td>\n",
       "            </tr><tr>\n",
       "                <td><strong>GPR</strong></td><td></td>\n",
       "            </tr><tr>\n",
       "                <td><strong>Lower bound</strong></td><td>0</td>\n",
       "            </tr><tr>\n",
       "                <td><strong>Upper bound</strong></td><td>1000.0</td>\n",
       "            </tr>\n",
       "        </table>\n",
       "        "
      ],
      "text/plain": [
       "<Reaction RBPC at 0x7f2b1b49fa50>"
      ]
     },
     "execution_count": 2,
     "metadata": {},
     "output_type": "execute_result"
    }
   ],
   "source": [
    "# now rubisco\n",
    "rubisco"
   ]
  },
  {
   "cell_type": "code",
   "execution_count": 3,
   "metadata": {
    "collapsed": true
   },
   "outputs": [],
   "source": [
    "# Removed pfkA, pfkB and zwf\n",
    "model.genes.get_by_id(\"b3916\").knock_out()\n",
    "model.genes.get_by_id(\"b1723\").knock_out()\n",
    "model.genes.get_by_id(\"b1852\").knock_out()"
   ]
  },
  {
   "cell_type": "markdown",
   "metadata": {},
   "source": [
    "Now we have added the reactions, we would probably want to make sure they work. To do this we need to change the medium."
   ]
  },
  {
   "cell_type": "code",
   "execution_count": 4,
   "metadata": {},
   "outputs": [
    {
     "data": {
      "text/plain": [
       "0.9686322977222491"
      ]
     },
     "execution_count": 4,
     "metadata": {},
     "output_type": "execute_result"
    }
   ],
   "source": [
    "from cameo.core.utils import medium, load_medium\n",
    "\n",
    "model.reactions.EX_glc__D_e.lower_bound = -10.0\n",
    "model.reactions.EX_nh4_e.lower_bound = -1000.0\n",
    "\n",
    "model.optimize().f"
   ]
  },
  {
   "cell_type": "code",
   "execution_count": 5,
   "metadata": {
    "collapsed": true
   },
   "outputs": [],
   "source": [
    "design = project.save_design(model, 'cbb_cycle', 'calvin cycle', \n",
    "                    description='Reactions necissary for the calvin cycle in ecoli', overwrite=True)"
   ]
  },
  {
   "cell_type": "markdown",
   "metadata": {},
   "source": [
    "### Inherited designs\n",
    "\n",
    "Now we would like to use the design for production of xylose\n",
    "To do this we will create a child design so we can reuse the calvin cycle without making it part of the wild type ecoli core model. \n",
    "\n",
    "First, we want to start from the parent calvin cycle design as a base."
   ]
  },
  {
   "cell_type": "code",
   "execution_count": 6,
   "metadata": {},
   "outputs": [
    {
     "data": {
      "text/html": [
       "\n",
       "        <table>\n",
       "            <tr>\n",
       "                <td><strong>Reaction identifier</strong></td><td>HMGCOASi</td>\n",
       "            </tr><tr>\n",
       "                <td><strong>Name</strong></td><td>Hydroxymethylglutaryl CoA synthase</td>\n",
       "            </tr><tr>\n",
       "                <td><strong>Memory address</strong></td>\n",
       "                <td>0x07f2b18b7d790</td>\n",
       "            </tr><tr>\n",
       "                <td><strong>Stoichiometry</strong></td>\n",
       "                <td>\n",
       "                    <p style='text-align:right'>aacoa_c + accoa_c + h2o_c <=> coa_c + h_c + hmgcoa_c</p>\n",
       "                    <p style='text-align:right'>Acetoacetyl-CoA + Acetyl-CoA + H2O <=> Coenzyme A + H+ + Hydroxymethylglutaryl CoA</p>\n",
       "                </td>\n",
       "            </tr><tr>\n",
       "                <td><strong>GPR</strong></td><td></td>\n",
       "            </tr><tr>\n",
       "                <td><strong>Lower bound</strong></td><td>-1000.0</td>\n",
       "            </tr><tr>\n",
       "                <td><strong>Upper bound</strong></td><td>1000.0</td>\n",
       "            </tr>\n",
       "        </table>\n",
       "        "
      ],
      "text/plain": [
       "<Reaction HMGCOASi at 0x7f2b18b7d790>"
      ]
     },
     "execution_count": 6,
     "metadata": {},
     "output_type": "execute_result"
    }
   ],
   "source": [
    "project = GSMProject('example_project')\n",
    "# Start from the design as a base model\n",
    "model = project.load_design('cbb_cycle')\n",
    "reaction = cobra.Reaction(id=\"HMGCOASi\", name=\"Hydroxymethylglutaryl CoA synthase\")\n",
    "\n",
    "aacoa = cobra.Metabolite(id=\"aacoa_c\", charge=-4, formula=\"C25H36N7O18P3S\", name=\"Acetoacetyl-CoA\")\n",
    "hmgcoa = cobra.Metabolite(id=\"hmgcoa_c\", charge=-5, formula=\"C27H40N7O20P3S\", name=\"Hydroxymethylglutaryl CoA\")\n",
    "\n",
    "\n",
    "model.add_metabolites([aacoa, hmgcoa])\n",
    "\n",
    "stoich = dict(\n",
    "    aacoa_c=-1.0, \n",
    "    accoa_c=-1.0,\n",
    "    coa_c=1.0,\n",
    "    h_c=1.0,\n",
    "    h2o_c=-1.0,\n",
    "    hmgcoa_c=1.0,\n",
    ")\n",
    "\n",
    "\n",
    "model.add_reaction(reaction)\n",
    "reaction.add_metabolites(stoich)\n",
    "reaction.lower_bound = -1000.0\n",
    "reaction.upper_bound = 1000.0\n",
    "\n",
    "reaction"
   ]
  },
  {
   "cell_type": "code",
   "execution_count": 7,
   "metadata": {},
   "outputs": [
    {
     "data": {
      "text/html": [
       "\n",
       "        <table>\n",
       "            <tr>\n",
       "                <td><strong>Reaction identifier</strong></td><td>HMGCOAR</td>\n",
       "            </tr><tr>\n",
       "                <td><strong>Name</strong></td><td>Hydroxymethylglutaryl CoA reductase</td>\n",
       "            </tr><tr>\n",
       "                <td><strong>Memory address</strong></td>\n",
       "                <td>0x07f2b19fc3290</td>\n",
       "            </tr><tr>\n",
       "                <td><strong>Stoichiometry</strong></td>\n",
       "                <td>\n",
       "                    <p style='text-align:right'>coa_c + mev__R_c + 2.0 nadp_c <=> 2.0 h_c + hmgcoa_c + 2.0 nadph_c</p>\n",
       "                    <p style='text-align:right'>Coenzyme A + R Mevalonate + 2.0 Nicotinamide adenine dinucleotide phosphate <=> 2.0 H+ + Hydroxymethylglutaryl CoA + 2.0 Nicotinamide adenine dinucleotide phosphate - reduced</p>\n",
       "                </td>\n",
       "            </tr><tr>\n",
       "                <td><strong>GPR</strong></td><td></td>\n",
       "            </tr><tr>\n",
       "                <td><strong>Lower bound</strong></td><td>-1000.0</td>\n",
       "            </tr><tr>\n",
       "                <td><strong>Upper bound</strong></td><td>1000.0</td>\n",
       "            </tr>\n",
       "        </table>\n",
       "        "
      ],
      "text/plain": [
       "<Reaction HMGCOAR at 0x7f2b19fc3290>"
      ]
     },
     "execution_count": 7,
     "metadata": {},
     "output_type": "execute_result"
    }
   ],
   "source": [
    "mev__R = cobra.Metabolite(id=\"mev__R_c\", name=\"R Mevalonate\", charge=-1, formula=\"C6H11O4\")\n",
    "model.add_metabolites([mev__R])\n",
    "\n",
    "reaction = cobra.Reaction(id=\"HMGCOAR\", name=\"Hydroxymethylglutaryl CoA reductase\")\n",
    "reaction.lower_bound = -1000.0\n",
    "reaction.upper_bound = 1000.0\n",
    "\n",
    "stoich = dict(\n",
    "    coa_c=-1.0,\n",
    "    h_c=2.0,\n",
    "    nadp_c=-2.0,\n",
    "    nadph_c=2.0,\n",
    "    hmgcoa_c=1.0,\n",
    "    mev__R_c=-1.0\n",
    ")\n",
    "\n",
    "model.add_reaction(reaction)\n",
    "\n",
    "reaction.add_metabolites(stoich)\n",
    "reaction"
   ]
  },
  {
   "cell_type": "code",
   "execution_count": 8,
   "metadata": {
    "collapsed": true
   },
   "outputs": [],
   "source": [
    "model.add_boundary(mev__R, type='sink') # add somewhere for mevalonate to go\n",
    "\n",
    "design = project.save_design(model, 'mevalonate_cbb', 'mevalonate production', parent='cbb_cycle',\n",
    "                    description='Reactions for the production of mevalonate', overwrite=True)"
   ]
  },
  {
   "cell_type": "code",
   "execution_count": 9,
   "metadata": {},
   "outputs": [
    {
     "data": {
      "text/html": [
       "\n",
       "        <table>\n",
       "            <tr>\n",
       "                <td><strong>Name</strong></td>\n",
       "                <td>iJO1366:ds_cbb_cycle:ds_cbb_cycle:ds_mevalonate_cbb</td>\n",
       "            </tr><tr>\n",
       "                <td><strong>Memory address</strong></td>\n",
       "                <td>0x07f2b1856a490</td>\n",
       "            </tr><tr>\n",
       "                <td><strong>Number of metabolites</strong></td>\n",
       "                <td>1808</td>\n",
       "            </tr><tr>\n",
       "                <td><strong>Number of reactions</strong></td>\n",
       "                <td>2588</td>\n",
       "            </tr><tr>\n",
       "                <td><strong>Objective expression</strong></td>\n",
       "                <td>-1.0*BIOMASS_Ec_iJO1366_core_53p95M_reverse_5c8b1 + 1.0*BIOMASS_Ec_iJO1366_core_53p95M</td>\n",
       "            </tr><tr>\n",
       "                <td><strong>Compartments</strong></td>\n",
       "                <td>periplasm, cytosol, extracellular space</td>\n",
       "            </tr>\n",
       "          </table>"
      ],
      "text/plain": [
       "<Model iJO1366:ds_cbb_cycle:ds_cbb_cycle:ds_mevalonate_cbb at 0x7f2b1856a490>"
      ]
     },
     "execution_count": 9,
     "metadata": {},
     "output_type": "execute_result"
    }
   ],
   "source": [
    "des = project.load_design('mevalonate_cbb')\n",
    "des"
   ]
  },
  {
   "cell_type": "markdown",
   "metadata": {},
   "source": [
    "## Accessing designs as models\n",
    "\n",
    "By default a design can be accessed as a model with\n",
    "```\n",
    "project.load_design(<design_id>)\n",
    "``` \n",
    "This loads the design as a cobra model object.\n",
    "\n",
    "Using the get_design method allows access to the strain design object.\n",
    "```\n",
    "project.get_design(<design_id>)\n",
    "```\n",
    "This can also be loaded as an isolated pathway cobra model (though FBA cannot be performed on this object)."
   ]
  },
  {
   "cell_type": "code",
   "execution_count": 2,
   "metadata": {},
   "outputs": [
    {
     "data": {
      "text/html": [
       "\n",
       "        <table>\n",
       "            <tr>\n",
       "                <td><strong>Name</strong></td>\n",
       "                <td>:ds_cbb_cycle:ds_mevalonate_cbb</td>\n",
       "            </tr><tr>\n",
       "                <td><strong>Memory address</strong></td>\n",
       "                <td>0x07fddd6c806d0</td>\n",
       "            </tr><tr>\n",
       "                <td><strong>Number of metabolites</strong></td>\n",
       "                <td>23</td>\n",
       "            </tr><tr>\n",
       "                <td><strong>Number of reactions</strong></td>\n",
       "                <td>9</td>\n",
       "            </tr><tr>\n",
       "                <td><strong>Objective expression</strong></td>\n",
       "                <td>0</td>\n",
       "            </tr><tr>\n",
       "                <td><strong>Compartments</strong></td>\n",
       "                <td></td>\n",
       "            </tr>\n",
       "          </table>"
      ],
      "text/plain": [
       "<Model :ds_cbb_cycle:ds_mevalonate_cbb at 0x7fddd6c806d0>"
      ]
     },
     "execution_count": 2,
     "metadata": {},
     "output_type": "execute_result"
    }
   ],
   "source": [
    "from gsmodutils import GSMProject\n",
    "project = GSMProject('example_project')\n",
    "des = project.get_design('mevalonate_cbb')\n",
    "des.as_pathway_model()"
   ]
  },
  {
   "cell_type": "code",
   "execution_count": 5,
   "metadata": {},
   "outputs": [
    {
     "data": {
      "text/html": [
       "\n",
       "        <table>\n",
       "            <tr>\n",
       "                <td><strong>Name</strong></td>\n",
       "                <td>:ds_cbb_cycle</td>\n",
       "            </tr><tr>\n",
       "                <td><strong>Memory address</strong></td>\n",
       "                <td>0x07fde0f3c0790</td>\n",
       "            </tr><tr>\n",
       "                <td><strong>Number of metabolites</strong></td>\n",
       "                <td>18</td>\n",
       "            </tr><tr>\n",
       "                <td><strong>Number of reactions</strong></td>\n",
       "                <td>6</td>\n",
       "            </tr><tr>\n",
       "                <td><strong>Objective expression</strong></td>\n",
       "                <td>0</td>\n",
       "            </tr><tr>\n",
       "                <td><strong>Compartments</strong></td>\n",
       "                <td></td>\n",
       "            </tr>\n",
       "          </table>"
      ],
      "text/plain": [
       "<Model :ds_cbb_cycle at 0x7fde0f3c0790>"
      ]
     },
     "execution_count": 5,
     "metadata": {},
     "output_type": "execute_result"
    }
   ],
   "source": [
    "des = project.get_design('cbb_cycle')\n",
    "des.as_pathway_model()"
   ]
  },
  {
   "cell_type": "markdown",
   "metadata": {},
   "source": [
    "# Exporting and importing designs and conditions\n",
    "\n",
    "There are many cases where a particular external piece of software outside the cobrapy stack will be needed for strain design. For this reason the gsmodutils import and export commands aim to allow interoperability with other tool sets.\n",
    "\n",
    "The objective is to allow users to add or update designs to the project through the command line alone as well as exporting models with the additional constraints that are applied for import in to other tools. Cobrapy makes it easy to work with matlab, sbml, json and yaml constraints based models.\n",
    "\n",
    "### Viewing a project's designs\n",
    "\n",
    "To view the designs and conditions stored in a project use the ```info``` command.\n",
    "For the example project it should look something like:\n",
    "\n",
    "```\n",
    "--------------------------------------------------------------------------------------------------\n",
    "Project description - Example ecoli core model\n",
    "Author(s): - A user\n",
    "Author email - A.user@example.com\n",
    "Designs directory - designs\n",
    "Tests directory - tests   \n",
    "    \n",
    "Models:\n",
    "        * iJO1366.json\n",
    "                 iJO1366\n",
    "                 \n",
    "Designs:\n",
    "        * mevalonate_cbb\n",
    "                 mevalonate production\n",
    "                 Reactions for the production of mevalonate\n",
    "                 Parent: cbb_cycle\n",
    "        * cbb_cycle\n",
    "                 calvin cycle\n",
    "                 Reactions necissary for the calvin cycle in ecoli\n",
    "Conditions:\n",
    "        * fructose_growth\n",
    "--------------------------------------------------------------------------------------------------\n",
    "\n",
    "```\n",
    "\n",
    "### Exporting a design\n",
    "To export to matlab, sbml, json or yaml formats use ```gsmodutils export```:\n",
    "\n",
    "```\n",
    "gsmodutils export <output format> <output filepath> --model_id <model id> --conditions <conditions_id> --design <design_id>\n",
    "```\n",
    "\n",
    "For example:\n",
    "\n",
    "```\n",
    "gsmodutils export mat mevalonate_analysis.mat --design mevalonate_cbb\n",
    "```\n",
    "\n",
    "#### A note on conflicting constraints\n",
    "When flags for models, designs and conditions are all set the load order of constrains is as follows:\n",
    "* Load model\n",
    "* Set conditions\n",
    "* Load design\n",
    "\n",
    "This means that if there is a conflict betweeen the constraints set in a conditions file and the design file (i.e. the same transporter may be switched on an off at the same time) the constraint added in the design file takes precidence and is applied to the model."
   ]
  },
  {
   "cell_type": "markdown",
   "metadata": {},
   "source": [
    "### Importing a new design\n",
    "\n",
    "To import a new design use the ``dimport`` command: \n",
    "```\n",
    "gsmodutils dimport <path_to_model> <new_id> --base_model <base_model_id> --parent <parent_design_id>\n",
    "```\n",
    "The base_model flag is optional, if it is unset the default project modell will be used for the diff.\n",
    "\n",
    "Before adding a new design it may be desirable to check the diff summary using:\n",
    "\n",
    "```\n",
    "gsmodutils diff <path_to_model> --base_model <base_model_id> --parent <parent_design_id>\n",
    "```\n",
    "This command shows a summary of the changes the design makes. Using the flag ``--no-names`` will create a summary that only lists the number of reactions and metabolites modified or added. By default, all changed reactions will be listed by name (though the exact changes are not visible).\n",
    "\n",
    "Using ``--output`` allows the diff to be saved as a json file. This can then be imported directly as a design with ``dimport`` using the ``--from-diff`` flag.\n",
    "\n",
    "### Modifying an existing design with another tool\n",
    "\n",
    "Rather than saving a new design, we would like to simply overwrite the existing design. This can be done easily. **However, it is strongly reccommended that you use version control software (such as git or mercurial) to ensure that changes to existing designs are tracked.**\n",
    "\n",
    "Do this with the command\n",
    "```\n",
    "gsmodutils dimport <path_to_model> <design_id> --overwrite\n",
    "```"
   ]
  },
  {
   "cell_type": "code",
   "execution_count": null,
   "metadata": {
    "collapsed": true
   },
   "outputs": [],
   "source": []
  },
  {
   "cell_type": "markdown",
   "metadata": {},
   "source": [
    "# Tests\n",
    "\n",
    "## Running the default tests\n",
    "A test report can be generated by the tester. This is a command line utility which, by default, loads each model, set of conditions and design and performs the FBA simulations. This ensures that any changes to the project files maintain designs, models and conditions."
   ]
  },
  {
   "cell_type": "raw",
   "metadata": {},
   "source": [
    "gsmodutils test"
   ]
  },
  {
   "cell_type": "markdown",
   "metadata": {},
   "source": [
    "The output from the terminal should look something like this:"
   ]
  },
  {
   "cell_type": "raw",
   "metadata": {},
   "source": [
    "------------------------- gsmodutils test results -------------------------\n",
    "Running tests: ....\n",
    "Default project file tests (models, designs, conditions):\n",
    "Counted 4 test assertions with 0 failures\n",
    "Project file completed all tests without error\n",
    "    --model_e_coli_core.json\n",
    "\n",
    "    --design_mevalonate_calvin\n",
    "\n",
    "    --design_mevalonate_cbb\n",
    "\n",
    "    --design_cbb_cycle\n",
    "\n",
    "Ran 4 test assertions with a total of 0 errors (100.0% success)\n"
   ]
  },
  {
   "cell_type": "markdown",
   "metadata": {},
   "source": [
    "## Adding custom tests"
   ]
  },
  {
   "cell_type": "markdown",
   "metadata": {
    "collapsed": true
   },
   "source": [
    "Whilst the default tests provided by the tool are a useful way of ensuring that the project files remain valid after manual curation they do not have the capability to match all design goals. These design goals will be based on a data driven approach to genome scale model development and often require a more fundamental understanding of how an organism functions.\n",
    "\n",
    "For this reason we give an example here of the TCA cycle in E coli. In our case this is a pathway that should be conserved and used in all FBA cases. If a modification were to break this (without being a specific engineering goal) the model's validity comes in to question."
   ]
  },
  {
   "cell_type": "markdown",
   "metadata": {},
   "source": [
    "## Writing python test cases\n",
    "For many use cases, it may require the use of more complex functionality. For this reason, gsmodutils allows users to write fully featured python test cases. This means that any code written in python can be used and assertion statments can be written and included in the test reports."
   ]
  },
  {
   "cell_type": "code",
   "execution_count": null,
   "metadata": {
    "collapsed": true
   },
   "outputs": [],
   "source": []
  },
  {
   "cell_type": "markdown",
   "metadata": {},
   "source": [
    "## Sharing projects with docker\n",
    "\n",
    "This section describes how to share a gsmodutils project inside a docker container. The objective is to have code for testing models, data for their validation and the framework for running models written in a \"write once run anywhere\" fashion. Ideally, even if a platform for running a model is considerably out of date it should produce the same results on new software. Unfortunately this isn't always the case. Packaging a constraints based model, with associated software, within the same working environment ensures that the results should be reproducable, providing other users can install docker containers.\n",
    "\n",
    "To install docker on your system please consult the documentation.\n",
    "\n",
    "To create docker containers based on gsmodutils projects read the following instructions\n",
    "\n",
    "### Creating a docker container\n",
    "\n",
    "### Running a docker container\n",
    "\n",
    "### Sharing docker containers\n",
    "\n",
    "### Running other user's docker containers"
   ]
  },
  {
   "cell_type": "markdown",
   "metadata": {},
   "source": [
    "\n",
    "\n",
    "### Refrences\n",
    "\n",
    "[1] Antonovsky, N., Gleizer, S., Noor, E., Zohar, Y., Herz, E., Barenholz, U., Zelcbuch, L., Amram, S., Wides, A., Tepper, N. and Davidi, D., 2016. Sugar synthesis from CO 2 in Escherichia coli. Cell, 166(1), pp.115-125.\n",
    "\n",
    "[2] Ebrahim, Ali, Joshua A. Lerman, Bernhard O. Palsson, and Daniel R. Hyduke. \"COBRApy: COnstraints-based reconstruction and analysis for python.\" BMC systems biology 7, no. 1 (2013): 74.\n",
    "\n",
    "[3] Cardoso, Joao, Kristian Jensen, Christian Lieven, Anne Sofie Laerke Hansen, Svetlana Galkina, Moritz Emanuel Beber, Emre Ozdemir, Markus Herrgard, Henning Redestig, and Nikolaus Sonnenschein. \"Cameo: A Python Library for Computer Aided Metabolic Engineering and Optimization of Cell Factories.\" bioRxiv (2017): 147199.\n"
   ]
  },
  {
   "cell_type": "code",
   "execution_count": null,
   "metadata": {
    "collapsed": true
   },
   "outputs": [],
   "source": []
  }
 ],
 "metadata": {
  "kernelspec": {
   "display_name": "Python 2",
   "language": "python",
   "name": "python2"
  },
  "language_info": {
   "codemirror_mode": {
    "name": "ipython",
    "version": 2
   },
   "file_extension": ".py",
   "mimetype": "text/x-python",
   "name": "python",
   "nbconvert_exporter": "python",
   "pygments_lexer": "ipython2",
   "version": "2.7.13"
  }
 },
 "nbformat": 4,
 "nbformat_minor": 2
}
