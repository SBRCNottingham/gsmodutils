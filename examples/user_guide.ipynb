{
 "cells": [
  {
   "cell_type": "markdown",
   "metadata": {},
   "source": [
    "# Creating designs\n",
    "Designs are a cruical aspect of gsmodutils. The overall goal of the \"design\" strategy is to maximise the reusability of models by storing related designs through the concept of model deltas. This is to say that, of interest, is the difference between a base model and added constraints and reactions in the case of a design.\n",
    "\n",
    "In this example we look at adding the mevalonate pathway, a common route to terpenes, to an E coli model. This pathway is then extended to allow the production of anti-malarial drug, artemesin, demonstrating how one design can inherit from another. Similar examples may include re-usable gene knockout or addition strategies to increase the yield of desired products.\n",
    "\n"
   ]
  },
  {
   "cell_type": "code",
   "execution_count": null,
   "metadata": {
    "collapsed": true
   },
   "outputs": [],
   "source": [
    "# first we load the project\n",
    "from gsmodutils import GSMProject\n",
    "project = GSMProject('example_project')"
   ]
  },
  {
   "cell_type": "code",
   "execution_count": null,
   "metadata": {
    "collapsed": true
   },
   "outputs": [],
   "source": [
    "# Next we add the mevalonate pathway using the metanetx database accessible from cameo\n",
    "\n",
    "enzymes = [\n",
    "]"
   ]
  }
 ],
 "metadata": {
  "kernelspec": {
   "display_name": "Python 2",
   "language": "python",
   "name": "python2"
  },
  "language_info": {
   "codemirror_mode": {
    "name": "ipython",
    "version": 2
   },
   "file_extension": ".py",
   "mimetype": "text/x-python",
   "name": "python",
   "nbconvert_exporter": "python",
   "pygments_lexer": "ipython2",
   "version": "2.7.13"
  }
 },
 "nbformat": 4,
 "nbformat_minor": 2
}
