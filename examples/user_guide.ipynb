{
 "cells": [
  {
   "cell_type": "markdown",
   "metadata": {},
   "source": [
    "# Creating projects and running tests\n",
    "\n",
    "\n",
    "## Project creation\n",
    "\n",
    "The first step for the use of gsmodutils for assitance with managing curated genome scale models is the creation of the necissary project files. This is a configuration that only needs to be done once before models and designs can be added.\n",
    "\n",
    "In python this can be achived as follows"
   ]
  },
  {
   "cell_type": "code",
   "execution_count": 10,
   "metadata": {
    "collapsed": true
   },
   "outputs": [],
   "source": [
    "from gsmodutils import GSMProject\n",
    "from cameo import models\n",
    "\n",
    "model = models.bigg.e_coli_core"
   ]
  },
  {
   "cell_type": "raw",
   "metadata": {
    "collapsed": true
   },
   "source": [
    "# Note, running more than once will throw an error. Projects can't be created in the folder more than once.\n",
    "project = GSMProject.create_project(\n",
    "    models=[models.bigg.iJO1366],\n",
    "    description='Example ecoli core model',\n",
    "    author='A user',\n",
    "    author_email='A.user@example.com',\n",
    "    project_path='example_project'\n",
    ")"
   ]
  },
  {
   "cell_type": "markdown",
   "metadata": {},
   "source": [
    "Alternatively, we reccomend the usage of the cli interface with the following command. This will prompt you for the necissary descriptions."
   ]
  },
  {
   "cell_type": "raw",
   "metadata": {},
   "source": [
    "gsmodutils create_project ./example_project <path to ecoli_model.json/sbml/mat>"
   ]
  },
  {
   "cell_type": "markdown",
   "metadata": {},
   "source": [
    "The project folder \"ecoli_core_model\" should now be created containing the barebones of a new project directory. The model file will be copied. Alternatively a project file can be created in a directory with an already existing model and other files. In th"
   ]
  },
  {
   "cell_type": "markdown",
   "metadata": {},
   "source": [
    "## Adding some conditions\n",
    "\n",
    "In many cases it is desirable to compare models configured with different growth conditions. In this simplistic example we show how conditions can be adjusted by switching the growth media from glucose to xylose. This setting can then be saved and reloaded at a later time."
   ]
  },
  {
   "cell_type": "code",
   "execution_count": 20,
   "metadata": {
    "collapsed": true
   },
   "outputs": [],
   "source": [
    "from gsmodutils import GSMProject\n",
    "# Load existing project\n",
    "project = GSMProject('ecoli_project')\n",
    "model = project.model\n",
    "\n",
    "# Switching off glucose uptake\n",
    "model.reactions.EX_glc__D_e.lower_bound = 0\n",
    "# switching on Xylose uptake\n",
    "model.reactions.EX_xyl__D_e.lower_bound = -10\n",
    "# Check it works\n",
    "s = model.optimize()\n",
    "project.save_conditions(model, 'xylose_growth')\n"
   ]
  },
  {
   "cell_type": "code",
   "execution_count": 21,
   "metadata": {
    "collapsed": true
   },
   "outputs": [],
   "source": [
    "# loading the conditions back into a different model\n",
    "xylose_m = project.load_conditions('xylose_growth')\n",
    "\n",
    "# Xylose should be in the medium\n",
    "# Glucose should not be present\n",
    "assert \"EX_xyl__D_e\" in xylose_m.medium\n",
    "assert \"EX_glc__D_e\" not in xylose_m.medium\n",
    "\n",
    "assert xylose_m.medium[\"EX_xyl__D_e\"] == 10\n"
   ]
  },
  {
   "cell_type": "markdown",
   "metadata": {},
   "source": [
    "## Adding designs\n",
    "\n",
    "There are many cases in which an organism maybe modified in complex ways. In this example we apply some of the work from  [1] and add the reactions for the Calvin-Benson (CBB) cycle to the ecoli model. This allows the fixation of CO2 as an inorganic carbon source.\n",
    "\n",
    "To do this, we need to add two enzymatic reactions to the model Phosphoribulokinase and Rubisco.\n"
   ]
  },
  {
   "cell_type": "code",
   "execution_count": 13,
   "metadata": {},
   "outputs": [
    {
     "data": {
      "text/html": [
       "\n",
       "        <table>\n",
       "            <tr>\n",
       "                <td><strong>Reaction identifier</strong></td><td>PRUK</td>\n",
       "            </tr><tr>\n",
       "                <td><strong>Name</strong></td><td>Phosphoribulokinase reaction</td>\n",
       "            </tr><tr>\n",
       "                <td><strong>Memory address</strong></td>\n",
       "                <td>0x07fc1ac349650</td>\n",
       "            </tr><tr>\n",
       "                <td><strong>Stoichiometry</strong></td>\n",
       "                <td>\n",
       "                    <p style='text-align:right'>atp_c + ru5p__D_c <=> adp_c + h_c + rb15bp_c</p>\n",
       "                    <p style='text-align:right'>ATP + D-Ribulose 5-phosphate <=> ADP + H+ + D-Ribulose 1,5-bisphosphate</p>\n",
       "                </td>\n",
       "            </tr><tr>\n",
       "                <td><strong>GPR</strong></td><td></td>\n",
       "            </tr><tr>\n",
       "                <td><strong>Lower bound</strong></td><td>-1000</td>\n",
       "            </tr><tr>\n",
       "                <td><strong>Upper bound</strong></td><td>1000</td>\n",
       "            </tr>\n",
       "        </table>\n",
       "        "
      ],
      "text/plain": [
       "<Reaction PRUK at 0x7fc1ac349650>"
      ]
     },
     "execution_count": 13,
     "metadata": {},
     "output_type": "execute_result"
    }
   ],
   "source": [
    "from gsmodutils import GSMProject\n",
    "import cobra\n",
    "\n",
    "# Load existing project\n",
    "project = GSMProject('example_project')\n",
    "# Load the default model we want to add\n",
    "model = project.load_model()\n",
    "\n",
    "# Phosphoribulokinase reaction\n",
    "stoich = dict(\n",
    "    atp_c=-1.0,\n",
    "    ru5p__D_c=-1.0,\n",
    "    adp_c=1.0,\n",
    "    h_c=1.0,\n",
    "    rb15bp_c=1.0,\n",
    ")\n",
    "\n",
    "\n",
    "rb15bp = cobra.Metabolite(id='rb15bp_c', name='D-Ribulose 1,5-bisphosphate', formula='C5H8O11P2')\n",
    "model.add_metabolites(rb15bp)\n",
    "\n",
    "pruk = cobra.Reaction(id=\"PRUK\", name=\"Phosphoribulokinase reaction\", lower_bound=-1000, upper_bound=1000)\n",
    "model.add_reaction(pruk)\n",
    "pruk.add_metabolites(stoich)\n",
    "\n",
    "\n",
    "# Rubisco reaction (Ribulose-bisphosphate carboxylase)\n",
    "stoich = {\n",
    "    \"3pg_c\":2.0,\n",
    "    \"rb15bp_c\":-1.0,\n",
    "    \"co2_c\":-1.0,\n",
    "    \"h2o_c\":-1.0,\n",
    "    \"h_c\":2.0\n",
    "}\n",
    "\n",
    "\n",
    "rubisco = cobra.Reaction(id=\"RBPC\", lower_bound=0, upper_bound=1000.0, name=\"Ribulose-bisphosphate carboxylase\")\n",
    "\n",
    "model.add_reaction(rubisco)\n",
    "rubisco.add_metabolites(stoich)\n",
    "\n",
    "#show the reactions\n",
    "pruk\n"
   ]
  },
  {
   "cell_type": "code",
   "execution_count": 14,
   "metadata": {},
   "outputs": [
    {
     "data": {
      "text/html": [
       "\n",
       "        <table>\n",
       "            <tr>\n",
       "                <td><strong>Reaction identifier</strong></td><td>RBPC</td>\n",
       "            </tr><tr>\n",
       "                <td><strong>Name</strong></td><td>Ribulose-bisphosphate carboxylase</td>\n",
       "            </tr><tr>\n",
       "                <td><strong>Memory address</strong></td>\n",
       "                <td>0x07fc1b1ccdc50</td>\n",
       "            </tr><tr>\n",
       "                <td><strong>Stoichiometry</strong></td>\n",
       "                <td>\n",
       "                    <p style='text-align:right'>co2_c + h2o_c + rb15bp_c --> 2.0 3pg_c + 2.0 h_c</p>\n",
       "                    <p style='text-align:right'>CO2 + H2O + D-Ribulose 1,5-bisphosphate --> 2.0 3-Phospho-D-glycerate + 2.0 H+</p>\n",
       "                </td>\n",
       "            </tr><tr>\n",
       "                <td><strong>GPR</strong></td><td></td>\n",
       "            </tr><tr>\n",
       "                <td><strong>Lower bound</strong></td><td>0</td>\n",
       "            </tr><tr>\n",
       "                <td><strong>Upper bound</strong></td><td>1000.0</td>\n",
       "            </tr>\n",
       "        </table>\n",
       "        "
      ],
      "text/plain": [
       "<Reaction RBPC at 0x7fc1b1ccdc50>"
      ]
     },
     "execution_count": 14,
     "metadata": {},
     "output_type": "execute_result"
    }
   ],
   "source": [
    "# now rubisco\n",
    "rubisco"
   ]
  },
  {
   "cell_type": "code",
   "execution_count": 15,
   "metadata": {
    "collapsed": true
   },
   "outputs": [],
   "source": [
    "# Removed pfkA, pfkB and zwf\n",
    "model.genes.get_by_id(\"b3916\").knock_out()\n",
    "model.genes.get_by_id(\"b1723\").knock_out()\n",
    "model.genes.get_by_id(\"b1852\").knock_out()"
   ]
  },
  {
   "cell_type": "markdown",
   "metadata": {},
   "source": [
    "Now we have added the reactions, we would probably want to make sure they work. To do this we need to change the medium."
   ]
  },
  {
   "cell_type": "code",
   "execution_count": 16,
   "metadata": {},
   "outputs": [
    {
     "data": {
      "text/plain": [
       "0.7678159297712336"
      ]
     },
     "execution_count": 16,
     "metadata": {},
     "output_type": "execute_result"
    }
   ],
   "source": [
    "from cameo.core.utils import medium, load_medium\n",
    "\n",
    "model.reactions.EX_glc__D_e.lower_bound = -10.0\n",
    "model.reactions.EX_nh4_e.lower_bound = -1000.0\n",
    "\n",
    "model.optimize().f"
   ]
  },
  {
   "cell_type": "code",
   "execution_count": 19,
   "metadata": {},
   "outputs": [],
   "source": [
    "design = project.save_design(model, 'cbb_cycle', 'calvin cycle', \n",
    "                    description='Reactions necissary for the calvin cycle in ecoli', overwrite=True)"
   ]
  },
  {
   "cell_type": "markdown",
   "metadata": {},
   "source": [
    "Now we would like to use the design for production of xylose\n",
    "To do this we will create a child design so we can reuse the calvin cycle without making it part of the wild type ecoli core model."
   ]
  },
  {
   "cell_type": "code",
   "execution_count": null,
   "metadata": {
    "collapsed": true
   },
   "outputs": [],
   "source": [
    "design."
   ]
  },
  {
   "cell_type": "markdown",
   "metadata": {},
   "source": [
    "# Exporting and importing designs and conditions\n",
    "\n",
    "There are many cases where a particular external piece of software outside the cobrapy stack will be needed for strain design. For this reason the gsmodutils import and export commands should come in handy.\n",
    "\n",
    "The objective is to allow users to add or update designs to the project through the command line alone as well as exporting models with the additional constraints that are applied for import in to other tools. Cobrapy makes it easy to work with matlab, sbml, json and yaml constraints based models.\n",
    "\n",
    "## Exporting a design\n",
    "\n",
    "* listing all the designs currently within a project\n",
    "\n",
    "* export to matlab, sbml, json\n",
    "\n",
    "## Importing a new design\n",
    "\n",
    "\n",
    "## Modifying an existing design with another tool\n",
    "\n",
    "Rather than saving a new design, we would like to simply overwrite the existing design."
   ]
  },
  {
   "cell_type": "markdown",
   "metadata": {},
   "source": [
    "# Tests\n",
    "\n",
    "## Running the default tests\n",
    "A test report can be generated by the tester. This is a command line utility which, by default, loads each model, set of conditions and design and performs the FBA simulations. This ensures that any changes to the project files maintain designs, models and conditions."
   ]
  },
  {
   "cell_type": "raw",
   "metadata": {
    "collapsed": true
   },
   "source": [
    "gsmodutils test"
   ]
  },
  {
   "cell_type": "markdown",
   "metadata": {},
   "source": [
    "The output from the terminal should look something like this:"
   ]
  },
  {
   "cell_type": "raw",
   "metadata": {
    "collapsed": true
   },
   "source": [
    "------------------------- gsmodutils test results -------------------------\n",
    "Running tests: ..\n",
    "Default project file tests (models, designs, conditions):\n",
    "Counted 2 test assertions with 0 failures\n",
    "Project file completed all tests without error\n",
    "    --model_e_coli_core.json\n",
    "\n",
    "    --design_cbb_cycle\n",
    "\n",
    "Ran 2 test assertions with a total of 0 errors (100.0% success)\n"
   ]
  },
  {
   "cell_type": "markdown",
   "metadata": {},
   "source": [
    "## Adding custom tests"
   ]
  },
  {
   "cell_type": "markdown",
   "metadata": {
    "collapsed": true
   },
   "source": [
    "Whilst the default tests provided by the tool are a useful way of ensuring that the project files remain valid after manual curation they do not have the capability to match all design goals. These design goals will be based on a data driven approach to genome scale model development and often require a more fundamental understanding of how an organism functions.\n",
    "\n",
    "For this reason we give an example here of the TCA cycle in E coli. In our case this is a pathway that should be conserved and used in all FBA cases. If a modification were to break this (without being a specific engineering goal) the model's validity comes in to question."
   ]
  },
  {
   "cell_type": "markdown",
   "metadata": {},
   "source": [
    "## Writing python test cases\n",
    "For many use cases, it may require the use of more complex functionality. For this reason, gsmodutils allows users to write fully featured python test cases. This means that any code written in python can be used and assertion statments can be written and included in the test reports."
   ]
  },
  {
   "cell_type": "code",
   "execution_count": null,
   "metadata": {
    "collapsed": true
   },
   "outputs": [],
   "source": []
  },
  {
   "cell_type": "markdown",
   "metadata": {},
   "source": [
    "## Suggested workflow\n",
    "\n",
    "Following a standard protocol to build a genome scale model is time consuming and will likely encounter many problems.\n",
    "For this reason a suggested workflow is to integrate the development of the genome scale model with gsmodutils and a"
   ]
  },
  {
   "cell_type": "markdown",
   "metadata": {},
   "source": [
    "\n",
    "\n",
    "### Refrences\n",
    "\n",
    "[1] Antonovsky, N., Gleizer, S., Noor, E., Zohar, Y., Herz, E., Barenholz, U., Zelcbuch, L., Amram, S., Wides, A., Tepper, N. and Davidi, D., 2016. Sugar synthesis from CO 2 in Escherichia coli. Cell, 166(1), pp.115-125."
   ]
  },
  {
   "cell_type": "code",
   "execution_count": null,
   "metadata": {
    "collapsed": true
   },
   "outputs": [],
   "source": []
  }
 ],
 "metadata": {
  "kernelspec": {
   "display_name": "Python 2",
   "language": "python",
   "name": "python2"
  },
  "language_info": {
   "codemirror_mode": {
    "name": "ipython",
    "version": 2
   },
   "file_extension": ".py",
   "mimetype": "text/x-python",
   "name": "python",
   "nbconvert_exporter": "python",
   "pygments_lexer": "ipython2",
   "version": "2.7.13"
  }
 },
 "nbformat": 4,
 "nbformat_minor": 2
}
